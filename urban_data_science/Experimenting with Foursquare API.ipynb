{
 "cells": [
  {
   "cell_type": "code",
   "execution_count": 2,
   "metadata": {},
   "outputs": [],
   "source": [
    "from config import cl_id, cl_sec"
   ]
  },
  {
   "cell_type": "markdown",
   "metadata": {},
   "source": [
    "# Using the API"
   ]
  },
  {
   "cell_type": "code",
   "execution_count": 3,
   "metadata": {},
   "outputs": [
    {
     "data": {
      "text/plain": [
       "{'meta': {'code': 200, 'requestId': '5fc4d6f69d01581b7fcb4f20'},\n",
       " 'response': {'venues': [{'id': '504dc9f3e4b00c01095766a0',\n",
       "    'name': 'Food Corner',\n",
       "    'contact': {},\n",
       "    'location': {'address': 'Dam Square',\n",
       "     'lat': 52.37352715384458,\n",
       "     'lng': 4.893949262019628,\n",
       "     'labeledLatLngs': [{'label': 'display',\n",
       "       'lat': 52.37352715384458,\n",
       "       'lng': 4.893949262019628}],\n",
       "     'distance': 195,\n",
       "     'cc': 'NL',\n",
       "     'country': 'Nederland',\n",
       "     'formattedAddress': ['Dam Square', 'Nederland']},\n",
       "    'categories': [{'id': '4bf58dd8d48988d120951735',\n",
       "      'name': 'Food Court',\n",
       "      'pluralName': 'Food Courts',\n",
       "      'shortName': 'Food Court',\n",
       "      'icon': {'prefix': 'https://ss3.4sqi.net/img/categories_v2/shops/food_foodcourt_',\n",
       "       'suffix': '.png'},\n",
       "      'primary': True}],\n",
       "    'verified': False,\n",
       "    'stats': {'tipCount': 0,\n",
       "     'usersCount': 0,\n",
       "     'checkinsCount': 0,\n",
       "     'visitsCount': 0},\n",
       "    'beenHere': {'count': 0,\n",
       "     'lastCheckinExpiredAt': 0,\n",
       "     'marked': False,\n",
       "     'unconfirmedCount': 0},\n",
       "    'hereNow': {'count': 0, 'summary': 'Nobody here', 'groups': []},\n",
       "    'referralId': 'v-1606735606',\n",
       "    'venueChains': [],\n",
       "    'hasPerk': False},\n",
       "   {'id': '52d7ec76498e19770b7d649b',\n",
       "    'name': 'St. Anny Food',\n",
       "    'contact': {},\n",
       "    'location': {'address': 'Stormsteeg 8',\n",
       "     'lat': 52.37406002111417,\n",
       "     'lng': 4.895094687961053,\n",
       "     'labeledLatLngs': [{'label': 'display',\n",
       "       'lat': 52.37406002111417,\n",
       "       'lng': 4.895094687961053}],\n",
       "     'distance': 193,\n",
       "     'postalCode': '1012 BD',\n",
       "     'cc': 'NL',\n",
       "     'city': 'Amsterdam',\n",
       "     'state': 'Noord-Holland',\n",
       "     'country': 'Nederland',\n",
       "     'formattedAddress': ['Stormsteeg 8', '1012 BD Amsterdam', 'Nederland']},\n",
       "    'categories': [{'id': '4bf58dd8d48988d16a941735',\n",
       "      'name': 'Bakery',\n",
       "      'pluralName': 'Bakeries',\n",
       "      'shortName': 'Bakery',\n",
       "      'icon': {'prefix': 'https://ss3.4sqi.net/img/categories_v2/food/bakery_',\n",
       "       'suffix': '.png'},\n",
       "      'primary': True}],\n",
       "    'verified': False,\n",
       "    'stats': {'tipCount': 0,\n",
       "     'usersCount': 0,\n",
       "     'checkinsCount': 0,\n",
       "     'visitsCount': 0},\n",
       "    'beenHere': {'count': 0,\n",
       "     'lastCheckinExpiredAt': 0,\n",
       "     'marked': False,\n",
       "     'unconfirmedCount': 0},\n",
       "    'hereNow': {'count': 0, 'summary': 'Nobody here', 'groups': []},\n",
       "    'referralId': 'v-1606735606',\n",
       "    'venueChains': [],\n",
       "    'hasPerk': False}]}}"
      ]
     },
     "execution_count": 3,
     "metadata": {},
     "output_type": "execute_result"
    }
   ],
   "source": [
    "import requests, json\n",
    "request = \"https://api.foursquare.com/v2/venues/search?client_id=\" + cl_id[0] + \"&client_secret=\" + cl_sec[0] + \"&v=20180323&limit=2&ll=52.372473,4.896255&query=food\"\n",
    "resp = requests.get(request)\n",
    "data = json.loads(resp.text)\n",
    "data"
   ]
  },
  {
   "cell_type": "code",
   "execution_count": 4,
   "metadata": {},
   "outputs": [
    {
     "name": "stdout",
     "output_type": "stream",
     "text": [
      "Name:  Food Corner\n",
      "Categories ID:  504dc9f3e4b00c01095766a0\n",
      "Categories Name:  Food Court\n",
      "52.37352715384458 4.893949262019628\n",
      "\n",
      "###############################################\n",
      "###############################################\n",
      "\n",
      "Name:  St. Anny Food\n",
      "Categories ID:  52d7ec76498e19770b7d649b\n",
      "Categories Name:  Bakery\n",
      "52.37406002111417 4.895094687961053\n",
      "\n",
      "###############################################\n",
      "###############################################\n",
      "\n"
     ]
    }
   ],
   "source": [
    "for v in data[\"response\"][\"venues\"]:\n",
    "    print(\"Name: \",v['name'])\n",
    "    print(\"Categories ID: \", v['id'])\n",
    "    print(\"Categories Name: \", v['categories'][0]['name'])\n",
    "    print(v['location']['lat'], v['location']['lng'])\n",
    "    print(\"\\n###############################################\")\n",
    "    print(\"###############################################\\n\")"
   ]
  },
  {
   "cell_type": "markdown",
   "metadata": {},
   "source": [
    "# Using a Library"
   ]
  },
  {
   "cell_type": "code",
   "execution_count": 5,
   "metadata": {},
   "outputs": [],
   "source": [
    "import foursquare as fs\n",
    "\n",
    "client = fs.Foursquare(client_id=cl_id[1], client_secret=cl_sec[1])"
   ]
  },
  {
   "cell_type": "code",
   "execution_count": 27,
   "metadata": {},
   "outputs": [
    {
     "data": {
      "text/plain": [
       "6"
      ]
     },
     "execution_count": 27,
     "metadata": {},
     "output_type": "execute_result"
    }
   ],
   "source": [
    "ll='52.372473,4.896255'\n",
    "venues_data = client.venues.search({'intent': 'browse', 'limit': 100, 'radius':50, \n",
    "                                    'll': ll, 'categoryId': '4d4b7105d754a06374d81259'})\n",
    "\n",
    "len(venues_data[\"venues\"])"
   ]
  },
  {
   "cell_type": "code",
   "execution_count": 28,
   "metadata": {
    "scrolled": true
   },
   "outputs": [
    {
     "name": "stdout",
     "output_type": "stream",
     "text": [
      "{'id': '5073f34c8aca797edc93ed77', 'name': 'The Bulldog Energy', 'location': {'address': 'Oudezijds Voorburgwal 220', 'lat': 52.37247112135521, 'lng': 4.896377636381115, 'labeledLatLngs': [{'label': 'display', 'lat': 52.37247112135521, 'lng': 4.896377636381115}], 'distance': 8, 'postalCode': '1012 HG', 'cc': 'NL', 'neighborhood': 'De Wallen', 'city': 'Amsterdam', 'state': 'Noord-Holland', 'country': 'Nederland', 'formattedAddress': ['Oudezijds Voorburgwal 220', '1012 HG Amsterdam', 'Nederland']}, 'categories': [{'id': '4bf58dd8d48988d1e0931735', 'name': 'Coffee Shop', 'pluralName': 'Coffee Shops', 'shortName': 'Coffee Shop', 'icon': {'prefix': 'https://ss3.4sqi.net/img/categories_v2/food/coffeeshop_', 'suffix': '.png'}, 'primary': True}], 'referralId': 'v-1606737277', 'hasPerk': False}\n",
      "###############################################\n",
      "\n",
      "{'id': '54dfa311498eda4a05cdfb60', 'name': 'saint morris oudezijds voorburgwal 163 amsterdam', 'location': {'address': 'Oudezijds Voorburgwal 163', 'lat': 52.3721, 'lng': 4.896136, 'labeledLatLngs': [{'label': 'display', 'lat': 52.3721, 'lng': 4.896136}], 'distance': 42, 'cc': 'NL', 'city': 'Amsterdam', 'state': 'Noord-Holland', 'country': 'Nederland', 'formattedAddress': ['Oudezijds Voorburgwal 163', 'Amsterdam', 'Nederland']}, 'categories': [{'id': '4bf58dd8d48988d107941735', 'name': 'Argentinian Restaurant', 'pluralName': 'Argentinian Restaurants', 'shortName': 'Argentinian', 'icon': {'prefix': 'https://ss3.4sqi.net/img/categories_v2/food/argentinian_', 'suffix': '.png'}, 'primary': True}], 'referralId': 'v-1606737277', 'hasPerk': False}\n",
      "###############################################\n",
      "\n",
      "{'id': '4efe0ba89a520dfd64a34bf9', 'name': 'Dinner Cruise', 'location': {'lat': 52.37243727678339, 'lng': 4.895537393995754, 'labeledLatLngs': [{'label': 'display', 'lat': 52.37243727678339, 'lng': 4.895537393995754}], 'distance': 48, 'cc': 'NL', 'city': 'Amsterdam', 'state': 'Noord-Holland', 'country': 'Nederland', 'formattedAddress': ['Amsterdam', 'Nederland']}, 'categories': [{'id': '4bf58dd8d48988d12d951735', 'name': 'Boat or Ferry', 'pluralName': 'Boats or Ferries', 'shortName': 'Boat / Ferry', 'icon': {'prefix': 'https://ss3.4sqi.net/img/categories_v2/travel/boat_', 'suffix': '.png'}, 'primary': True}], 'referralId': 'v-1606737278', 'hasPerk': False}\n",
      "###############################################\n",
      "\n",
      "{'id': '4e29a365a809ec0663fa6023', 'name': 'Friet Point', 'location': {'lat': 52.3726155244315, 'lng': 4.896664070072669, 'labeledLatLngs': [{'label': 'display', 'lat': 52.3726155244315, 'lng': 4.896664070072669}], 'distance': 32, 'cc': 'NL', 'city': 'Amsterdam', 'state': 'Noord-Holland', 'country': 'Nederland', 'formattedAddress': ['Amsterdam', 'Nederland']}, 'categories': [{'id': '55d25775498e9f6a0816a37a', 'name': 'Friterie', 'pluralName': 'Friteries', 'shortName': 'Friterie', 'icon': {'prefix': 'https://ss3.4sqi.net/img/categories_v2/food/fastfood_', 'suffix': '.png'}, 'primary': True}], 'referralId': 'v-1606737278', 'hasPerk': False}\n",
      "###############################################\n",
      "\n",
      "{'id': '4c098f8a340720a1ac098593', 'name': 'Kontikie', 'location': {'lat': 52.372796, 'lng': 4.896298, 'labeledLatLngs': [{'label': 'display', 'lat': 52.372796, 'lng': 4.896298}], 'distance': 36, 'cc': 'NL', 'country': 'Nederland', 'formattedAddress': ['Nederland']}, 'categories': [{'id': '4bf58dd8d48988d144941735', 'name': 'Caribbean Restaurant', 'pluralName': 'Caribbean Restaurants', 'shortName': 'Caribbean', 'icon': {'prefix': 'https://ss3.4sqi.net/img/categories_v2/food/caribbean_', 'suffix': '.png'}, 'primary': True}], 'referralId': 'v-1606737278', 'hasPerk': False}\n",
      "###############################################\n",
      "\n",
      "{'id': '4dd68a40814d85e931fd8850', 'name': 'Queen of Tarts', 'location': {'address': 'Sint Jansstraat 61', 'lat': 52.37275263136935, 'lng': 4.896088323470837, 'labeledLatLngs': [{'label': 'display', 'lat': 52.37275263136935, 'lng': 4.896088323470837}], 'distance': 33, 'postalCode': '1012 HG', 'cc': 'NL', 'city': 'Amsterdam', 'state': 'Noord-Holland', 'country': 'Nederland', 'formattedAddress': ['Sint Jansstraat 61', '1012 HG Amsterdam', 'Nederland']}, 'categories': [{'id': '4bf58dd8d48988d16a941735', 'name': 'Bakery', 'pluralName': 'Bakeries', 'shortName': 'Bakery', 'icon': {'prefix': 'https://ss3.4sqi.net/img/categories_v2/food/bakery_', 'suffix': '.png'}, 'primary': True}], 'referralId': 'v-1606737278', 'hasPerk': False}\n",
      "###############################################\n",
      "\n"
     ]
    }
   ],
   "source": [
    "for ven in venues_data[\"venues\"]:\n",
    "    print(ven)\n",
    "    print(\"###############################################\\n\")"
   ]
  },
  {
   "cell_type": "markdown",
   "metadata": {},
   "source": [
    "# Playing with \"Categories\" (Extra)"
   ]
  },
  {
   "cell_type": "code",
   "execution_count": 13,
   "metadata": {},
   "outputs": [],
   "source": [
    "categories_tree = client.venues.categories()"
   ]
  },
  {
   "cell_type": "markdown",
   "metadata": {},
   "source": [
    "### How to get restaurant related categories?"
   ]
  },
  {
   "cell_type": "code",
   "execution_count": 14,
   "metadata": {},
   "outputs": [
    {
     "name": "stdout",
     "output_type": "stream",
     "text": [
      "Afghan Restaurant\n",
      "African Restaurant\n",
      "American Restaurant\n",
      "Armenian Restaurant\n",
      "Asian Restaurant\n",
      "Australian Restaurant\n",
      "Austrian Restaurant\n",
      "Bangladeshi Restaurant\n",
      "Belgian Restaurant\n",
      "Cajun / Creole Restaurant\n",
      "Caribbean Restaurant\n",
      "Caucasian Restaurant\n",
      "Comfort Food Restaurant\n",
      "Czech Restaurant\n",
      "Dumpling Restaurant\n",
      "Dutch Restaurant\n",
      "Eastern European Restaurant\n",
      "English Restaurant\n",
      "Falafel Restaurant\n",
      "Fast Food Restaurant\n",
      "Fondue Restaurant\n",
      "French Restaurant\n",
      "German Restaurant\n",
      "Gluten-free Restaurant\n",
      "Greek Restaurant\n",
      "Halal Restaurant\n",
      "Hawaiian Restaurant\n",
      "Hungarian Restaurant\n",
      "Indian Restaurant\n",
      "Italian Restaurant\n",
      "Jewish Restaurant\n",
      "Kebab Restaurant\n",
      "Latin American Restaurant\n",
      "Mediterranean Restaurant\n",
      "Mexican Restaurant\n",
      "Middle Eastern Restaurant\n",
      "Modern European Restaurant\n",
      "Molecular Gastronomy Restaurant\n",
      "Pakistani Restaurant\n",
      "Polish Restaurant\n",
      "Portuguese Restaurant\n",
      "Restaurant\n",
      "Russian Restaurant\n",
      "Scandinavian Restaurant\n",
      "Scottish Restaurant\n",
      "Seafood Restaurant\n",
      "Slovak Restaurant\n",
      "Southern / Soul Food Restaurant\n",
      "Spanish Restaurant\n",
      "Sri Lankan Restaurant\n",
      "Swiss Restaurant\n",
      "Theme Restaurant\n",
      "Turkish Restaurant\n",
      "Ukrainian Restaurant\n",
      "Vegetarian / Vegan Restaurant\n"
     ]
    }
   ],
   "source": [
    "food_cats = []\n",
    "for cat in categories_tree['categories']:\n",
    "    if 'food' in cat['name'].lower():\n",
    "        food_cats = cat['categories']\n",
    "rest_ids = []\n",
    "for cat in food_cats:\n",
    "    if 'restaurant' in cat['name'].lower():\n",
    "        print(cat['name'])\n",
    "        #add it to our list\n",
    "        rest_ids.append(cat['id']) "
   ]
  },
  {
   "cell_type": "markdown",
   "metadata": {},
   "source": [
    "### Creating a string including ids of restaurant-related venues"
   ]
  },
  {
   "cell_type": "code",
   "execution_count": 15,
   "metadata": {},
   "outputs": [
    {
     "data": {
      "text/plain": [
       "'503288ae91d4c4b30a586d67,4bf58dd8d48988d1c8941735,4bf58dd8d48988d14e941735,5f2c2b7db6d05514c7044837,4bf58dd8d48988d142941735,4bf58dd8d48988d169941735,52e81612bcbc57f1066b7a01,5e179ee74ae8e90006e9a746,52e81612bcbc57f1066b7a02,4bf58dd8d48988d17a941735,4bf58dd8d48988d144941735,5293a7d53cf9994f4e043a45,52e81612bcbc57f1066b7a00,52f2ae52bcbc57f1066b8b81,4bf58dd8d48988d108941735,5744ccdfe4b0c0459246b4d0,4bf58dd8d48988d109941735,52e81612bcbc57f1066b7a05,4bf58dd8d48988d10b941735,4bf58dd8d48988d16e941735,52e81612bcbc57f1066b7a09,4bf58dd8d48988d10c941735,4bf58dd8d48988d10d941735,4c2cd86ed066bed06c3c5209,4bf58dd8d48988d10e941735,52e81612bcbc57f1066b79ff,52e81612bcbc57f1066b79fe,52e81612bcbc57f1066b79fa,4bf58dd8d48988d10f941735,4bf58dd8d48988d110941735,52e81612bcbc57f1066b79fd,5283c7b4e4b094cb91ec88d7,4bf58dd8d48988d1be941735,4bf58dd8d48988d1c0941735,4bf58dd8d48988d1c1941735,4bf58dd8d48988d115941735,52e81612bcbc57f1066b79f9,4bf58dd8d48988d1c2941735,52e81612bcbc57f1066b79f8,52e81612bcbc57f1066b7a04,4def73e84765ae376e57713a,4bf58dd8d48988d1c4941735,5293a7563cf9994f4e043a44,4bf58dd8d48988d1c6941735,5744ccdde4b0c0459246b4a3,4bf58dd8d48988d1ce941735,56aa371be4b08b9a8d57355a,4bf58dd8d48988d14f941735,4bf58dd8d48988d150941735,5413605de4b0ae91d18581a9,4bf58dd8d48988d158941735,56aa371be4b08b9a8d573538,4f04af1f2fb6e1c99f3db0bb,52e928d0bcbc57f1066b7e96,4bf58dd8d48988d1d3941735'"
      ]
     },
     "execution_count": 15,
     "metadata": {},
     "output_type": "execute_result"
    }
   ],
   "source": [
    "rest_ids_str = \",\".join(rest_ids)\n",
    "rest_ids_str"
   ]
  },
  {
   "cell_type": "markdown",
   "metadata": {},
   "source": [
    "### Searching for restaurants"
   ]
  },
  {
   "cell_type": "code",
   "execution_count": 23,
   "metadata": {},
   "outputs": [],
   "source": [
    "venues_data = client.venues.search({'intent': 'browse', 'limit': 100, 'radius':60, \n",
    "                                    'll': ll, 'categoryId': rest_ids_str})"
   ]
  },
  {
   "cell_type": "code",
   "execution_count": 24,
   "metadata": {},
   "outputs": [
    {
     "name": "stdout",
     "output_type": "stream",
     "text": [
      "{'id': '54dfa311498eda4a05cdfb60', 'name': 'saint morris oudezijds voorburgwal 163 amsterdam', 'location': {'address': 'Oudezijds Voorburgwal 163', 'lat': 52.3721, 'lng': 4.896136, 'labeledLatLngs': [{'label': 'display', 'lat': 52.3721, 'lng': 4.896136}], 'distance': 42, 'cc': 'NL', 'city': 'Amsterdam', 'state': 'Noord-Holland', 'country': 'Nederland', 'formattedAddress': ['Oudezijds Voorburgwal 163', 'Amsterdam', 'Nederland']}, 'categories': [{'id': '4bf58dd8d48988d107941735', 'name': 'Argentinian Restaurant', 'pluralName': 'Argentinian Restaurants', 'shortName': 'Argentinian', 'icon': {'prefix': 'https://ss3.4sqi.net/img/categories_v2/food/argentinian_', 'suffix': '.png'}, 'primary': True}], 'referralId': 'v-1606735677', 'hasPerk': False}\n",
      "###############################################\n",
      "\n",
      "{'id': '4efe0ba89a520dfd64a34bf9', 'name': 'Dinner Cruise', 'location': {'lat': 52.37243727678339, 'lng': 4.895537393995754, 'labeledLatLngs': [{'label': 'display', 'lat': 52.37243727678339, 'lng': 4.895537393995754}], 'distance': 48, 'cc': 'NL', 'city': 'Amsterdam', 'state': 'Noord-Holland', 'country': 'Nederland', 'formattedAddress': ['Amsterdam', 'Nederland']}, 'categories': [{'id': '4bf58dd8d48988d12d951735', 'name': 'Boat or Ferry', 'pluralName': 'Boats or Ferries', 'shortName': 'Boat / Ferry', 'icon': {'prefix': 'https://ss3.4sqi.net/img/categories_v2/travel/boat_', 'suffix': '.png'}, 'primary': True}], 'referralId': 'v-1606735677', 'hasPerk': False}\n",
      "###############################################\n",
      "\n",
      "{'id': '4c098f8a340720a1ac098593', 'name': 'Kontikie', 'location': {'lat': 52.372796, 'lng': 4.896298, 'labeledLatLngs': [{'label': 'display', 'lat': 52.372796, 'lng': 4.896298}], 'distance': 36, 'cc': 'NL', 'country': 'Nederland', 'formattedAddress': ['Nederland']}, 'categories': [{'id': '4bf58dd8d48988d144941735', 'name': 'Caribbean Restaurant', 'pluralName': 'Caribbean Restaurants', 'shortName': 'Caribbean', 'icon': {'prefix': 'https://ss3.4sqi.net/img/categories_v2/food/caribbean_', 'suffix': '.png'}, 'primary': True}], 'referralId': 'v-1606735677', 'hasPerk': False}\n",
      "###############################################\n",
      "\n"
     ]
    }
   ],
   "source": [
    "for ven in venues_data[\"venues\"]:\n",
    "    print(ven)\n",
    "    print(\"###############################################\\n\")"
   ]
  },
  {
   "cell_type": "markdown",
   "metadata": {},
   "source": [
    "### Details of specific restaurant"
   ]
  },
  {
   "cell_type": "code",
   "execution_count": 25,
   "metadata": {},
   "outputs": [
    {
     "data": {
      "text/plain": [
       "{'venue': {'id': '5b3f7c743b4e00002c6a81d6',\n",
       "  'name': 'Soho House Amsterdam',\n",
       "  'contact': {'phone': '+31208880300',\n",
       "   'formattedPhone': '+31 20 888 0300',\n",
       "   'twitter': 'sohohouse',\n",
       "   'instagram': 'sohohouse',\n",
       "   'facebook': '464192497277189',\n",
       "   'facebookUsername': 'SohoHouseAmsterdam',\n",
       "   'facebookName': 'Soho House Amsterdam'},\n",
       "  'location': {'address': 'Spuistraat 210',\n",
       "   'lat': 52.37206542660903,\n",
       "   'lng': 4.889217007892203,\n",
       "   'labeledLatLngs': [{'label': 'display',\n",
       "     'lat': 52.37206542660903,\n",
       "     'lng': 4.889217007892203}],\n",
       "   'postalCode': '1012 VT',\n",
       "   'cc': 'NL',\n",
       "   'neighborhood': 'Stadsdeel Centrum',\n",
       "   'city': 'Amsterdam',\n",
       "   'state': 'Noord-Holland',\n",
       "   'country': 'Nederland',\n",
       "   'formattedAddress': ['Spuistraat 210', '1012 VT Amsterdam', 'Nederland']},\n",
       "  'canonicalUrl': 'https://foursquare.com/v/soho-house-amsterdam/5b3f7c743b4e00002c6a81d6',\n",
       "  'categories': [{'id': '4bf58dd8d48988d1fa931735',\n",
       "    'name': 'Hotel',\n",
       "    'pluralName': 'Hotels',\n",
       "    'shortName': 'Hotel',\n",
       "    'icon': {'prefix': 'https://ss3.4sqi.net/img/categories_v2/travel/hotel_',\n",
       "     'suffix': '.png'},\n",
       "    'primary': True},\n",
       "   {'id': '52e81612bcbc57f1066b7a33',\n",
       "    'name': 'Social Club',\n",
       "    'pluralName': 'Social Clubs',\n",
       "    'shortName': 'Social Club',\n",
       "    'icon': {'prefix': 'https://ss3.4sqi.net/img/categories_v2/building/default_',\n",
       "     'suffix': '.png'}},\n",
       "   {'id': '4bf58dd8d48988d1c4941735',\n",
       "    'name': 'Restaurant',\n",
       "    'pluralName': 'Restaurants',\n",
       "    'shortName': 'Restaurant',\n",
       "    'icon': {'prefix': 'https://ss3.4sqi.net/img/categories_v2/food/default_',\n",
       "     'suffix': '.png'}}],\n",
       "  'verified': True,\n",
       "  'stats': {'tipCount': 6},\n",
       "  'url': 'https://www.sohohouse.com/houses/soho-house-amsterdam',\n",
       "  'likes': {'count': 71,\n",
       "   'groups': [{'type': 'others', 'count': 71, 'items': []}],\n",
       "   'summary': '71 Likes'},\n",
       "  'dislike': False,\n",
       "  'ok': False,\n",
       "  'rating': 8.5,\n",
       "  'ratingColor': '73CF42',\n",
       "  'ratingSignals': 90,\n",
       "  'allowMenuUrlEdit': True,\n",
       "  'beenHere': {'count': 0,\n",
       "   'unconfirmedCount': 0,\n",
       "   'marked': False,\n",
       "   'lastCheckinExpiredAt': 0},\n",
       "  'specials': {'count': 0, 'items': []},\n",
       "  'photos': {'count': 57,\n",
       "   'groups': [{'type': 'venue',\n",
       "     'name': 'Venue photos',\n",
       "     'count': 57,\n",
       "     'items': [{'id': '5fc13d4cf0861b03d083a2b5',\n",
       "       'createdAt': 1606499660,\n",
       "       'source': {'name': 'Swarm for iOS', 'url': 'https://www.swarmapp.com'},\n",
       "       'prefix': 'https://fastly.4sqi.net/img/general/',\n",
       "       'suffix': '/81940523_Cev_1AAyRGstPZd3pPtsASoYK2XcIyHm6P38pFXUz5A.jpg',\n",
       "       'width': 1440,\n",
       "       'height': 1920,\n",
       "       'user': {'isSanctioned': False,\n",
       "        'firstName': 'Mark',\n",
       "        'lastName': 'M',\n",
       "        'countryCode': 'NL'},\n",
       "       'visibility': 'public'},\n",
       "      {'id': '5f8406ddf0d2f469059ef965',\n",
       "       'createdAt': 1602488029,\n",
       "       'source': {'name': 'Swarm for iOS', 'url': 'https://www.swarmapp.com'},\n",
       "       'prefix': 'https://fastly.4sqi.net/img/general/',\n",
       "       'suffix': '/2005014_qfbNapX_ibTHCIcLK3AUQzOciwORQwnInvaZe4jg2dQ.jpg',\n",
       "       'width': 1920,\n",
       "       'height': 1440,\n",
       "       'user': {'isSanctioned': False,\n",
       "        'firstName': 'Marc',\n",
       "        'lastName': 'v',\n",
       "        'countryCode': 'NL'},\n",
       "       'visibility': 'public'}]}]},\n",
       "  'venuePage': {'id': '554346310'},\n",
       "  'reasons': {'count': 1,\n",
       "   'items': [{'summary': 'Lots of people like this place',\n",
       "     'type': 'general',\n",
       "     'reasonName': 'rawLikesReason'}]},\n",
       "  'description': 'Soho House Amsterdam has 79 bedrooms, a rooftop pool, a floor of club space, a gym and a cinema on the 4th floor..',\n",
       "  'page': {'user': {'isSanctioned': False,\n",
       "    'firstName': 'Soho House Amsterdam',\n",
       "    'countryCode': 'NL',\n",
       "    'type': 'venuePage',\n",
       "    'venue': {'id': '5b3f7c743b4e00002c6a81d6'},\n",
       "    'tips': {'count': 0},\n",
       "    'lists': {'groups': [{'type': 'created', 'count': 2, 'items': []}]},\n",
       "    'bio': ''}},\n",
       "  'hereNow': {'count': 0, 'summary': 'Nobody here', 'groups': []},\n",
       "  'createdAt': 1530887284,\n",
       "  'tips': {'count': 6,\n",
       "   'groups': [{'type': 'others',\n",
       "     'name': 'All tips',\n",
       "     'count': 6,\n",
       "     'items': [{'id': '5c764aac1fa763002ce4f08e',\n",
       "       'createdAt': 1551256236,\n",
       "       'text': 'Lekker Hipster klatschen...aber schöne Aussicht.',\n",
       "       'type': 'user',\n",
       "       'canonicalUrl': 'https://foursquare.com/item/5c764aac1fa763002ce4f08e',\n",
       "       'lang': 'de',\n",
       "       'likes': {'count': 0, 'groups': []},\n",
       "       'logView': True,\n",
       "       'agreeCount': 1,\n",
       "       'disagreeCount': 0,\n",
       "       'todo': {'count': 0},\n",
       "       'user': {'isSanctioned': False,\n",
       "        'firstName': 'noliplame',\n",
       "        'countryCode': 'DE'},\n",
       "       'authorInteractionType': 'disliked'},\n",
       "      {'id': '5be0b71f829b0c002c485a5c',\n",
       "       'createdAt': 1541453599,\n",
       "       'text': 'Me encanta más el SoHo House de Ámsterdam que el de Miami, Londres y Barcelona... so far!!!',\n",
       "       'type': 'user',\n",
       "       'canonicalUrl': 'https://foursquare.com/item/5be0b71f829b0c002c485a5c',\n",
       "       'lang': 'es',\n",
       "       'likes': {'count': 0, 'groups': []},\n",
       "       'logView': True,\n",
       "       'agreeCount': 0,\n",
       "       'disagreeCount': 2,\n",
       "       'todo': {'count': 0},\n",
       "       'user': {'isSanctioned': False,\n",
       "        'firstName': 'Margaita',\n",
       "        'lastName': 'T',\n",
       "        'countryCode': 'US'},\n",
       "       'authorInteractionType': 'liked'}]}]},\n",
       "  'shortUrl': 'https://4sq.com/2J3Cj4i',\n",
       "  'timeZone': 'Europe/Amsterdam',\n",
       "  'listed': {'count': 93,\n",
       "   'groups': [{'type': 'others',\n",
       "     'name': 'Lists from other people',\n",
       "     'count': 93,\n",
       "     'items': [{'id': '54e9e2ad498ebd709cdc7c55',\n",
       "       'name': 'Amsterdam',\n",
       "       'description': '',\n",
       "       'type': 'others',\n",
       "       'user': {'isSanctioned': False,\n",
       "        'firstName': 'Martin',\n",
       "        'lastName': 'H',\n",
       "        'countryCode': 'NL'},\n",
       "       'editable': False,\n",
       "       'public': True,\n",
       "       'collaborative': False,\n",
       "       'url': '/mhedevag/list/amsterdam',\n",
       "       'canonicalUrl': 'https://foursquare.com/mhedevag/list/amsterdam',\n",
       "       'createdAt': 1424614061,\n",
       "       'updatedAt': 1571594851,\n",
       "       'photo': {'id': '526f7adf498e7d5865be0220',\n",
       "        'createdAt': 1383037663,\n",
       "        'prefix': 'https://fastly.4sqi.net/img/general/',\n",
       "        'suffix': '/169039_yEq0me9FADqTdaDpA0cVbTGxoqyD8uaVwle-6KrBDr4.jpg',\n",
       "        'width': 959,\n",
       "        'height': 640,\n",
       "        'user': {'isSanctioned': False,\n",
       "         'firstName': 'Patrick',\n",
       "         'lastName': 'P',\n",
       "         'countryCode': 'NL'},\n",
       "        'visibility': 'public'},\n",
       "       'followers': {'count': 10},\n",
       "       'listItems': {'count': 166,\n",
       "        'items': [{'id': 'v5b3f7c743b4e00002c6a81d6',\n",
       "          'createdAt': 1537196671}]}},\n",
       "      {'id': '4e7af0bb1520e837f327bb80',\n",
       "       'name': \"Amsterdam's A-List\",\n",
       "       'description': '',\n",
       "       'type': 'others',\n",
       "       'user': {'isSanctioned': False,\n",
       "        'firstName': 'California Girl',\n",
       "        'countryCode': 'NL'},\n",
       "       'editable': False,\n",
       "       'public': True,\n",
       "       'collaborative': False,\n",
       "       'url': '/teresaladalia/list/amsterdams-alist',\n",
       "       'canonicalUrl': 'https://foursquare.com/teresaladalia/list/amsterdams-alist',\n",
       "       'createdAt': 1316679867,\n",
       "       'updatedAt': 1595687623,\n",
       "       'photo': {'id': '509fb813e4b0307537e69070',\n",
       "        'createdAt': 1352644627,\n",
       "        'prefix': 'https://fastly.4sqi.net/img/general/',\n",
       "        'suffix': '/10852124_mpu7iHJZ3hmTyEf51n_xw7ew2KUZjFTjBmGj0k7QfOs.jpg',\n",
       "        'width': 720,\n",
       "        'height': 540,\n",
       "        'user': {'isSanctioned': False,\n",
       "         'firstName': 'California Girl',\n",
       "         'countryCode': 'NL'},\n",
       "        'visibility': 'public'},\n",
       "       'followers': {'count': 5},\n",
       "       'listItems': {'count': 107,\n",
       "        'items': [{'id': 'v5b3f7c743b4e00002c6a81d6',\n",
       "          'createdAt': 1581500492}]}},\n",
       "      {'id': '528a45b211d20b07910f9319',\n",
       "       'name': 'Amsterdam',\n",
       "       'description': '',\n",
       "       'type': 'others',\n",
       "       'user': {'isSanctioned': False,\n",
       "        'firstName': 'Elena',\n",
       "        'lastName': 'B',\n",
       "        'countryCode': 'UA'},\n",
       "       'editable': False,\n",
       "       'public': True,\n",
       "       'collaborative': False,\n",
       "       'url': '/elenabazu/list/amsterdam',\n",
       "       'canonicalUrl': 'https://foursquare.com/elenabazu/list/amsterdam',\n",
       "       'createdAt': 1384793522,\n",
       "       'updatedAt': 1553581752,\n",
       "       'photo': {'id': '58ef6b8e9746174107850be0',\n",
       "        'createdAt': 1492085646,\n",
       "        'prefix': 'https://fastly.4sqi.net/img/general/',\n",
       "        'suffix': '/75604966_6f8ic-wDBNJDVTwlLTs-RGUex2z0apFhfUhB23SmZDM.jpg',\n",
       "        'width': 1440,\n",
       "        'height': 1440,\n",
       "        'user': {'isSanctioned': False,\n",
       "         'firstName': 'Laura',\n",
       "         'lastName': 'R',\n",
       "         'countryCode': 'BE'},\n",
       "        'visibility': 'public'},\n",
       "       'followers': {'count': 10},\n",
       "       'listItems': {'count': 51,\n",
       "        'items': [{'id': 'v5b3f7c743b4e00002c6a81d6',\n",
       "          'createdAt': 1546872578}]}},\n",
       "      {'id': '5b5cd7f8f62e09002ccb48d1',\n",
       "       'name': 'Amsterdam',\n",
       "       'description': '',\n",
       "       'type': 'others',\n",
       "       'user': {'isSanctioned': False,\n",
       "        'firstName': 'Taste of Prague',\n",
       "        'countryCode': 'CZ'},\n",
       "       'editable': False,\n",
       "       'public': True,\n",
       "       'collaborative': False,\n",
       "       'url': '/user/45813169/list/amsterdam',\n",
       "       'canonicalUrl': 'https://foursquare.com/user/45813169/list/amsterdam',\n",
       "       'createdAt': 1532811256,\n",
       "       'updatedAt': 1534596299,\n",
       "       'followers': {'count': 9},\n",
       "       'listItems': {'count': 78,\n",
       "        'items': [{'id': 'v5b3f7c743b4e00002c6a81d6',\n",
       "          'createdAt': 1532811299}]}}]}]},\n",
       "  'hours': {'status': 'Open until 10:00 PM',\n",
       "   'richStatus': {'entities': [], 'text': 'Open until 10:00 PM'},\n",
       "   'isOpen': True,\n",
       "   'isLocalHoliday': False,\n",
       "   'dayData': [],\n",
       "   'timeframes': [{'days': 'Mon–Sun',\n",
       "     'includesToday': True,\n",
       "     'open': [{'renderedTime': '8:00 AM–10:00 PM'}],\n",
       "     'segments': []}]},\n",
       "  'seasonalHours': [{'seasonalRange': 'April 22–May 31',\n",
       "    'closed': True,\n",
       "    'timeframes': [{'days': 'Mon–Sun', 'open': [], 'segments': []}]}],\n",
       "  'defaultHours': {'status': 'Open until 10:00 PM',\n",
       "   'richStatus': {'entities': [], 'text': 'Open until 10:00 PM'},\n",
       "   'isOpen': True,\n",
       "   'isLocalHoliday': False,\n",
       "   'dayData': [],\n",
       "   'timeframes': [{'days': 'Mon–Sun',\n",
       "     'includesToday': True,\n",
       "     'open': [{'renderedTime': '8:00 AM–10:00 PM'}],\n",
       "     'segments': []}]},\n",
       "  'pageUpdates': {'count': 0, 'items': []},\n",
       "  'inbox': {'count': 0, 'items': []},\n",
       "  'attributes': {'groups': [{'type': 'drinks',\n",
       "     'name': 'Drinks',\n",
       "     'summary': 'Cocktails',\n",
       "     'count': 5,\n",
       "     'items': [{'displayName': 'Cocktails', 'displayValue': 'Cocktails'}]}]},\n",
       "  'bestPhoto': {'id': '5fc13d4cf0861b03d083a2b5',\n",
       "   'createdAt': 1606499660,\n",
       "   'source': {'name': 'Swarm for iOS', 'url': 'https://www.swarmapp.com'},\n",
       "   'prefix': 'https://fastly.4sqi.net/img/general/',\n",
       "   'suffix': '/81940523_Cev_1AAyRGstPZd3pPtsASoYK2XcIyHm6P38pFXUz5A.jpg',\n",
       "   'width': 1440,\n",
       "   'height': 1920,\n",
       "   'visibility': 'public'}}}"
      ]
     },
     "execution_count": 25,
     "metadata": {},
     "output_type": "execute_result"
    }
   ],
   "source": [
    "client.venues('5b3f7c743b4e00002c6a81d6')"
   ]
  },
  {
   "cell_type": "code",
   "execution_count": null,
   "metadata": {},
   "outputs": [],
   "source": []
  }
 ],
 "metadata": {
  "kernelspec": {
   "display_name": "Python 3",
   "language": "python",
   "name": "python3"
  },
  "language_info": {
   "codemirror_mode": {
    "name": "ipython",
    "version": 3
   },
   "file_extension": ".py",
   "mimetype": "text/x-python",
   "name": "python",
   "nbconvert_exporter": "python",
   "pygments_lexer": "ipython3",
   "version": "3.8.2"
  }
 },
 "nbformat": 4,
 "nbformat_minor": 4
}
